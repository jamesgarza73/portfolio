{
 "cells": [
  {
   "cell_type": "code",
   "execution_count": 1,
   "metadata": {},
   "outputs": [],
   "source": [
    "import pandas as pd\n",
    "import yfinance as yf\n",
    "import seaborn as sns\n",
    "from pandas.plotting import scatter_matrix\n",
    "from matplotlib import pyplot\n",
    "import xgboost as xgb\n",
    "from sklearn.metrics import accuracy_score\n",
    "from xgboost import plot_importance\n",
    "import matplotlib.pyplot as plt"
   ]
  },
  {
   "cell_type": "code",
   "execution_count": 2,
   "metadata": {},
   "outputs": [],
   "source": [
    "NASDAQ = yf.Ticker(\"^IXIC\")"
   ]
  },
  {
   "cell_type": "code",
   "execution_count": 3,
   "metadata": {},
   "outputs": [],
   "source": [
    "# get historical market data\n",
    "hist = NASDAQ.history(start=\"1971-01-01\")"
   ]
  },
  {
   "cell_type": "code",
   "execution_count": 4,
   "metadata": {},
   "outputs": [],
   "source": [
    "dataset = hist[['Open', 'High','Low','Close','Volume']]"
   ]
  },
  {
   "cell_type": "code",
   "execution_count": 4,
   "metadata": {},
   "outputs": [
    {
     "data": {
      "text/html": [
       "<div>\n",
       "<style scoped>\n",
       "    .dataframe tbody tr th:only-of-type {\n",
       "        vertical-align: middle;\n",
       "    }\n",
       "\n",
       "    .dataframe tbody tr th {\n",
       "        vertical-align: top;\n",
       "    }\n",
       "\n",
       "    .dataframe thead th {\n",
       "        text-align: right;\n",
       "    }\n",
       "</style>\n",
       "<table border=\"1\" class=\"dataframe\">\n",
       "  <thead>\n",
       "    <tr style=\"text-align: right;\">\n",
       "      <th></th>\n",
       "      <th>Open</th>\n",
       "      <th>High</th>\n",
       "      <th>Low</th>\n",
       "      <th>Close</th>\n",
       "      <th>Volume</th>\n",
       "      <th>Dividends</th>\n",
       "      <th>Stock Splits</th>\n",
       "    </tr>\n",
       "    <tr>\n",
       "      <th>Date</th>\n",
       "      <th></th>\n",
       "      <th></th>\n",
       "      <th></th>\n",
       "      <th></th>\n",
       "      <th></th>\n",
       "      <th></th>\n",
       "      <th></th>\n",
       "    </tr>\n",
       "  </thead>\n",
       "  <tbody>\n",
       "    <tr>\n",
       "      <th>1971-02-05</th>\n",
       "      <td>100.00</td>\n",
       "      <td>100.00</td>\n",
       "      <td>100.00</td>\n",
       "      <td>100.00</td>\n",
       "      <td>0</td>\n",
       "      <td>0</td>\n",
       "      <td>0</td>\n",
       "    </tr>\n",
       "    <tr>\n",
       "      <th>1971-02-08</th>\n",
       "      <td>100.84</td>\n",
       "      <td>100.84</td>\n",
       "      <td>100.84</td>\n",
       "      <td>100.84</td>\n",
       "      <td>0</td>\n",
       "      <td>0</td>\n",
       "      <td>0</td>\n",
       "    </tr>\n",
       "    <tr>\n",
       "      <th>1971-02-09</th>\n",
       "      <td>100.76</td>\n",
       "      <td>100.76</td>\n",
       "      <td>100.76</td>\n",
       "      <td>100.76</td>\n",
       "      <td>0</td>\n",
       "      <td>0</td>\n",
       "      <td>0</td>\n",
       "    </tr>\n",
       "    <tr>\n",
       "      <th>1971-02-10</th>\n",
       "      <td>100.69</td>\n",
       "      <td>100.69</td>\n",
       "      <td>100.69</td>\n",
       "      <td>100.69</td>\n",
       "      <td>0</td>\n",
       "      <td>0</td>\n",
       "      <td>0</td>\n",
       "    </tr>\n",
       "    <tr>\n",
       "      <th>1971-02-11</th>\n",
       "      <td>101.45</td>\n",
       "      <td>101.45</td>\n",
       "      <td>101.45</td>\n",
       "      <td>101.45</td>\n",
       "      <td>0</td>\n",
       "      <td>0</td>\n",
       "      <td>0</td>\n",
       "    </tr>\n",
       "  </tbody>\n",
       "</table>\n",
       "</div>"
      ],
      "text/plain": [
       "              Open    High     Low   Close  Volume  Dividends  Stock Splits\n",
       "Date                                                                       \n",
       "1971-02-05  100.00  100.00  100.00  100.00       0          0             0\n",
       "1971-02-08  100.84  100.84  100.84  100.84       0          0             0\n",
       "1971-02-09  100.76  100.76  100.76  100.76       0          0             0\n",
       "1971-02-10  100.69  100.69  100.69  100.69       0          0             0\n",
       "1971-02-11  101.45  101.45  101.45  101.45       0          0             0"
      ]
     },
     "execution_count": 4,
     "metadata": {},
     "output_type": "execute_result"
    }
   ],
   "source": [
    "hist.head()"
   ]
  },
  {
   "cell_type": "code",
   "execution_count": 5,
   "metadata": {},
   "outputs": [],
   "source": [
    "dataset = dataset.reset_index()"
   ]
  },
  {
   "cell_type": "code",
   "execution_count": 6,
   "metadata": {},
   "outputs": [],
   "source": [
    "dataset.rename(columns={'Date':'index','Open':'open','High':'high','Low':'low','Close':'close','Volume':'volume'},inplace=True)"
   ]
  },
  {
   "cell_type": "code",
   "execution_count": 7,
   "metadata": {},
   "outputs": [],
   "source": [
    "dataset = dataset[['index','open','close','high','low','volume']]"
   ]
  },
  {
   "cell_type": "code",
   "execution_count": 9,
   "metadata": {},
   "outputs": [
    {
     "data": {
      "text/html": [
       "<div>\n",
       "<style scoped>\n",
       "    .dataframe tbody tr th:only-of-type {\n",
       "        vertical-align: middle;\n",
       "    }\n",
       "\n",
       "    .dataframe tbody tr th {\n",
       "        vertical-align: top;\n",
       "    }\n",
       "\n",
       "    .dataframe thead th {\n",
       "        text-align: right;\n",
       "    }\n",
       "</style>\n",
       "<table border=\"1\" class=\"dataframe\">\n",
       "  <thead>\n",
       "    <tr style=\"text-align: right;\">\n",
       "      <th></th>\n",
       "      <th>index</th>\n",
       "      <th>open</th>\n",
       "      <th>close</th>\n",
       "      <th>high</th>\n",
       "      <th>low</th>\n",
       "      <th>volume</th>\n",
       "    </tr>\n",
       "  </thead>\n",
       "  <tbody>\n",
       "    <tr>\n",
       "      <th>0</th>\n",
       "      <td>1971-02-05</td>\n",
       "      <td>100.00</td>\n",
       "      <td>100.00</td>\n",
       "      <td>100.00</td>\n",
       "      <td>100.00</td>\n",
       "      <td>0</td>\n",
       "    </tr>\n",
       "    <tr>\n",
       "      <th>1</th>\n",
       "      <td>1971-02-08</td>\n",
       "      <td>100.84</td>\n",
       "      <td>100.84</td>\n",
       "      <td>100.84</td>\n",
       "      <td>100.84</td>\n",
       "      <td>0</td>\n",
       "    </tr>\n",
       "    <tr>\n",
       "      <th>2</th>\n",
       "      <td>1971-02-09</td>\n",
       "      <td>100.76</td>\n",
       "      <td>100.76</td>\n",
       "      <td>100.76</td>\n",
       "      <td>100.76</td>\n",
       "      <td>0</td>\n",
       "    </tr>\n",
       "    <tr>\n",
       "      <th>3</th>\n",
       "      <td>1971-02-10</td>\n",
       "      <td>100.69</td>\n",
       "      <td>100.69</td>\n",
       "      <td>100.69</td>\n",
       "      <td>100.69</td>\n",
       "      <td>0</td>\n",
       "    </tr>\n",
       "    <tr>\n",
       "      <th>4</th>\n",
       "      <td>1971-02-11</td>\n",
       "      <td>101.45</td>\n",
       "      <td>101.45</td>\n",
       "      <td>101.45</td>\n",
       "      <td>101.45</td>\n",
       "      <td>0</td>\n",
       "    </tr>\n",
       "  </tbody>\n",
       "</table>\n",
       "</div>"
      ],
      "text/plain": [
       "       index    open   close    high     low  volume\n",
       "0 1971-02-05  100.00  100.00  100.00  100.00       0\n",
       "1 1971-02-08  100.84  100.84  100.84  100.84       0\n",
       "2 1971-02-09  100.76  100.76  100.76  100.76       0\n",
       "3 1971-02-10  100.69  100.69  100.69  100.69       0\n",
       "4 1971-02-11  101.45  101.45  101.45  101.45       0"
      ]
     },
     "execution_count": 9,
     "metadata": {},
     "output_type": "execute_result"
    }
   ],
   "source": [
    "dataset = dataset.sort_values(by = ['index'], ascending=True)\n",
    "#dataset= dataset.transpose()\n",
    "dataset.head()"
   ]
  },
  {
   "cell_type": "code",
   "execution_count": 10,
   "metadata": {},
   "outputs": [
    {
     "data": {
      "text/html": [
       "<div>\n",
       "<style scoped>\n",
       "    .dataframe tbody tr th:only-of-type {\n",
       "        vertical-align: middle;\n",
       "    }\n",
       "\n",
       "    .dataframe tbody tr th {\n",
       "        vertical-align: top;\n",
       "    }\n",
       "\n",
       "    .dataframe thead th {\n",
       "        text-align: right;\n",
       "    }\n",
       "</style>\n",
       "<table border=\"1\" class=\"dataframe\">\n",
       "  <thead>\n",
       "    <tr style=\"text-align: right;\">\n",
       "      <th></th>\n",
       "      <th>index</th>\n",
       "      <th>open</th>\n",
       "      <th>close</th>\n",
       "      <th>high</th>\n",
       "      <th>low</th>\n",
       "      <th>volume</th>\n",
       "    </tr>\n",
       "  </thead>\n",
       "  <tbody>\n",
       "    <tr>\n",
       "      <th>12432</th>\n",
       "      <td>2020-05-21</td>\n",
       "      <td>9375.19</td>\n",
       "      <td>9284.88</td>\n",
       "      <td>9405.25</td>\n",
       "      <td>9254.85</td>\n",
       "      <td>3725950000</td>\n",
       "    </tr>\n",
       "    <tr>\n",
       "      <th>12433</th>\n",
       "      <td>2020-05-22</td>\n",
       "      <td>9278.55</td>\n",
       "      <td>9324.59</td>\n",
       "      <td>9328.28</td>\n",
       "      <td>9239.41</td>\n",
       "      <td>3641830000</td>\n",
       "    </tr>\n",
       "    <tr>\n",
       "      <th>12434</th>\n",
       "      <td>2020-05-26</td>\n",
       "      <td>9501.21</td>\n",
       "      <td>9340.22</td>\n",
       "      <td>9501.21</td>\n",
       "      <td>9333.16</td>\n",
       "      <td>4432310000</td>\n",
       "    </tr>\n",
       "    <tr>\n",
       "      <th>12435</th>\n",
       "      <td>2020-05-27</td>\n",
       "      <td>9346.12</td>\n",
       "      <td>9412.36</td>\n",
       "      <td>9414.62</td>\n",
       "      <td>9144.28</td>\n",
       "      <td>4462450000</td>\n",
       "    </tr>\n",
       "    <tr>\n",
       "      <th>12436</th>\n",
       "      <td>2020-05-28</td>\n",
       "      <td>9392.99</td>\n",
       "      <td>9368.99</td>\n",
       "      <td>9523.64</td>\n",
       "      <td>9345.28</td>\n",
       "      <td>4064220000</td>\n",
       "    </tr>\n",
       "  </tbody>\n",
       "</table>\n",
       "</div>"
      ],
      "text/plain": [
       "           index     open    close     high      low      volume\n",
       "12432 2020-05-21  9375.19  9284.88  9405.25  9254.85  3725950000\n",
       "12433 2020-05-22  9278.55  9324.59  9328.28  9239.41  3641830000\n",
       "12434 2020-05-26  9501.21  9340.22  9501.21  9333.16  4432310000\n",
       "12435 2020-05-27  9346.12  9412.36  9414.62  9144.28  4462450000\n",
       "12436 2020-05-28  9392.99  9368.99  9523.64  9345.28  4064220000"
      ]
     },
     "execution_count": 10,
     "metadata": {},
     "output_type": "execute_result"
    }
   ],
   "source": [
    "dataset.tail()"
   ]
  },
  {
   "cell_type": "code",
   "execution_count": 11,
   "metadata": {},
   "outputs": [
    {
     "data": {
      "text/plain": [
       "0        NaN\n",
       "1    100.420\n",
       "2    100.800\n",
       "3    100.725\n",
       "4    101.070\n",
       "Name: open, dtype: float64"
      ]
     },
     "execution_count": 11,
     "metadata": {},
     "output_type": "execute_result"
    }
   ],
   "source": [
    "p = dataset['open'].rolling(window=2).mean()\n",
    "p.head()"
   ]
  },
  {
   "cell_type": "code",
   "execution_count": 12,
   "metadata": {},
   "outputs": [
    {
     "name": "stdout",
     "output_type": "stream",
     "text": [
      "       index    open   close    high     low  volume    ma1    ma2    ma3  \\\n",
      "0 1971-02-05  100.00  100.00  100.00  100.00       0    NaN    NaN    NaN   \n",
      "1 1971-02-08  100.84  100.84  100.84  100.84       0    NaN    NaN    NaN   \n",
      "2 1971-02-09  100.76  100.76  100.76  100.76       0  0.380    NaN    NaN   \n",
      "3 1971-02-10  100.69  100.69  100.69  100.69       0 -0.075 -0.455    NaN   \n",
      "4 1971-02-11  101.45  101.45  101.45  101.45       0  0.345  0.420  0.875   \n",
      "\n",
      "    HL  pct_change  vol_increment  vol_roc   open1  open_increment  \n",
      "0  0.0         0.0            NaN      NaN     NaN             NaN  \n",
      "1  0.0         0.0            NaN      NaN  100.00            0.84  \n",
      "2  0.0         0.0            NaN      NaN  100.84           -0.08  \n",
      "3  0.0         0.0            NaN      NaN  100.76           -0.07  \n",
      "4  0.0         0.0            NaN      NaN  100.69            0.76  \n"
     ]
    }
   ],
   "source": [
    "dataset['ma1'] = p.diff()\n",
    "dataset['ma2'] = dataset['ma1'].diff()\n",
    "dataset['ma3'] = dataset['ma2'].diff()\n",
    "dataset['HL'] = (dataset['high'] - dataset['low']) / dataset['close'] * 100\n",
    "dataset['pct_change'] = (dataset['close'] - dataset['open'])/dataset['open'] * 100\n",
    "dataset['vol_increment'] = dataset.volume.diff() / dataset.volume\n",
    "dataset[\"vol_roc\"] = dataset.volume.diff() / dataset.volume\n",
    "dataset[\"open1\"] = dataset.open.shift(1)\n",
    "dataset[\"open_increment\"] = dataset.open - dataset.open.shift(1)\n",
    "print(dataset.head())"
   ]
  },
  {
   "cell_type": "code",
   "execution_count": 13,
   "metadata": {},
   "outputs": [
    {
     "data": {
      "text/html": [
       "<div>\n",
       "<style scoped>\n",
       "    .dataframe tbody tr th:only-of-type {\n",
       "        vertical-align: middle;\n",
       "    }\n",
       "\n",
       "    .dataframe tbody tr th {\n",
       "        vertical-align: top;\n",
       "    }\n",
       "\n",
       "    .dataframe thead th {\n",
       "        text-align: right;\n",
       "    }\n",
       "</style>\n",
       "<table border=\"1\" class=\"dataframe\">\n",
       "  <thead>\n",
       "    <tr style=\"text-align: right;\">\n",
       "      <th></th>\n",
       "      <th>ma1</th>\n",
       "      <th>ma2</th>\n",
       "      <th>ma3</th>\n",
       "      <th>HL</th>\n",
       "      <th>pct_change</th>\n",
       "      <th>vol_increment</th>\n",
       "      <th>vol_roc</th>\n",
       "      <th>open1</th>\n",
       "      <th>open_increment</th>\n",
       "      <th>open</th>\n",
       "    </tr>\n",
       "  </thead>\n",
       "  <tbody>\n",
       "    <tr>\n",
       "      <th>0</th>\n",
       "      <td>NaN</td>\n",
       "      <td>NaN</td>\n",
       "      <td>NaN</td>\n",
       "      <td>0.0</td>\n",
       "      <td>0.0</td>\n",
       "      <td>NaN</td>\n",
       "      <td>NaN</td>\n",
       "      <td>NaN</td>\n",
       "      <td>NaN</td>\n",
       "      <td>100.00</td>\n",
       "    </tr>\n",
       "    <tr>\n",
       "      <th>1</th>\n",
       "      <td>NaN</td>\n",
       "      <td>NaN</td>\n",
       "      <td>NaN</td>\n",
       "      <td>0.0</td>\n",
       "      <td>0.0</td>\n",
       "      <td>NaN</td>\n",
       "      <td>NaN</td>\n",
       "      <td>100.00</td>\n",
       "      <td>0.84</td>\n",
       "      <td>100.84</td>\n",
       "    </tr>\n",
       "    <tr>\n",
       "      <th>2</th>\n",
       "      <td>0.380</td>\n",
       "      <td>NaN</td>\n",
       "      <td>NaN</td>\n",
       "      <td>0.0</td>\n",
       "      <td>0.0</td>\n",
       "      <td>NaN</td>\n",
       "      <td>NaN</td>\n",
       "      <td>100.84</td>\n",
       "      <td>-0.08</td>\n",
       "      <td>100.76</td>\n",
       "    </tr>\n",
       "    <tr>\n",
       "      <th>3</th>\n",
       "      <td>-0.075</td>\n",
       "      <td>-0.455</td>\n",
       "      <td>NaN</td>\n",
       "      <td>0.0</td>\n",
       "      <td>0.0</td>\n",
       "      <td>NaN</td>\n",
       "      <td>NaN</td>\n",
       "      <td>100.76</td>\n",
       "      <td>-0.07</td>\n",
       "      <td>100.69</td>\n",
       "    </tr>\n",
       "    <tr>\n",
       "      <th>4</th>\n",
       "      <td>0.345</td>\n",
       "      <td>0.420</td>\n",
       "      <td>0.875</td>\n",
       "      <td>0.0</td>\n",
       "      <td>0.0</td>\n",
       "      <td>NaN</td>\n",
       "      <td>NaN</td>\n",
       "      <td>100.69</td>\n",
       "      <td>0.76</td>\n",
       "      <td>101.45</td>\n",
       "    </tr>\n",
       "  </tbody>\n",
       "</table>\n",
       "</div>"
      ],
      "text/plain": [
       "     ma1    ma2    ma3   HL  pct_change  vol_increment  vol_roc   open1  \\\n",
       "0    NaN    NaN    NaN  0.0         0.0            NaN      NaN     NaN   \n",
       "1    NaN    NaN    NaN  0.0         0.0            NaN      NaN  100.00   \n",
       "2  0.380    NaN    NaN  0.0         0.0            NaN      NaN  100.84   \n",
       "3 -0.075 -0.455    NaN  0.0         0.0            NaN      NaN  100.76   \n",
       "4  0.345  0.420  0.875  0.0         0.0            NaN      NaN  100.69   \n",
       "\n",
       "   open_increment    open  \n",
       "0             NaN  100.00  \n",
       "1            0.84  100.84  \n",
       "2           -0.08  100.76  \n",
       "3           -0.07  100.69  \n",
       "4            0.76  101.45  "
      ]
     },
     "execution_count": 13,
     "metadata": {},
     "output_type": "execute_result"
    }
   ],
   "source": [
    "dataset2 = dataset[['ma1','ma2','ma3','HL','pct_change','vol_increment','vol_roc','open1','open_increment','open']]\n",
    "dataset2.head()"
   ]
  },
  {
   "cell_type": "code",
   "execution_count": 14,
   "metadata": {},
   "outputs": [
    {
     "name": "stderr",
     "output_type": "stream",
     "text": [
      "D:\\Anaconda3\\lib\\site-packages\\pandas\\core\\frame.py:4153: SettingWithCopyWarning: \n",
      "A value is trying to be set on a copy of a slice from a DataFrame\n",
      "\n",
      "See the caveats in the documentation: https://pandas.pydata.org/pandas-docs/stable/user_guide/indexing.html#returning-a-view-versus-a-copy\n",
      "  downcast=downcast,\n"
     ]
    },
    {
     "data": {
      "text/html": [
       "<div>\n",
       "<style scoped>\n",
       "    .dataframe tbody tr th:only-of-type {\n",
       "        vertical-align: middle;\n",
       "    }\n",
       "\n",
       "    .dataframe tbody tr th {\n",
       "        vertical-align: top;\n",
       "    }\n",
       "\n",
       "    .dataframe thead th {\n",
       "        text-align: right;\n",
       "    }\n",
       "</style>\n",
       "<table border=\"1\" class=\"dataframe\">\n",
       "  <thead>\n",
       "    <tr style=\"text-align: right;\">\n",
       "      <th></th>\n",
       "      <th>ma1</th>\n",
       "      <th>ma2</th>\n",
       "      <th>ma3</th>\n",
       "      <th>HL</th>\n",
       "      <th>pct_change</th>\n",
       "      <th>vol_increment</th>\n",
       "      <th>vol_roc</th>\n",
       "      <th>open1</th>\n",
       "      <th>open_increment</th>\n",
       "      <th>open</th>\n",
       "    </tr>\n",
       "  </thead>\n",
       "  <tbody>\n",
       "    <tr>\n",
       "      <th>0</th>\n",
       "      <td>-99999.000</td>\n",
       "      <td>-99999.000</td>\n",
       "      <td>-99999.000</td>\n",
       "      <td>0.0</td>\n",
       "      <td>0.0</td>\n",
       "      <td>-99999.0</td>\n",
       "      <td>-99999.0</td>\n",
       "      <td>-99999.00</td>\n",
       "      <td>-99999.00</td>\n",
       "      <td>100.00</td>\n",
       "    </tr>\n",
       "    <tr>\n",
       "      <th>1</th>\n",
       "      <td>-99999.000</td>\n",
       "      <td>-99999.000</td>\n",
       "      <td>-99999.000</td>\n",
       "      <td>0.0</td>\n",
       "      <td>0.0</td>\n",
       "      <td>-99999.0</td>\n",
       "      <td>-99999.0</td>\n",
       "      <td>100.00</td>\n",
       "      <td>0.84</td>\n",
       "      <td>100.84</td>\n",
       "    </tr>\n",
       "    <tr>\n",
       "      <th>2</th>\n",
       "      <td>0.380</td>\n",
       "      <td>-99999.000</td>\n",
       "      <td>-99999.000</td>\n",
       "      <td>0.0</td>\n",
       "      <td>0.0</td>\n",
       "      <td>-99999.0</td>\n",
       "      <td>-99999.0</td>\n",
       "      <td>100.84</td>\n",
       "      <td>-0.08</td>\n",
       "      <td>100.76</td>\n",
       "    </tr>\n",
       "    <tr>\n",
       "      <th>3</th>\n",
       "      <td>-0.075</td>\n",
       "      <td>-0.455</td>\n",
       "      <td>-99999.000</td>\n",
       "      <td>0.0</td>\n",
       "      <td>0.0</td>\n",
       "      <td>-99999.0</td>\n",
       "      <td>-99999.0</td>\n",
       "      <td>100.76</td>\n",
       "      <td>-0.07</td>\n",
       "      <td>100.69</td>\n",
       "    </tr>\n",
       "    <tr>\n",
       "      <th>4</th>\n",
       "      <td>0.345</td>\n",
       "      <td>0.420</td>\n",
       "      <td>0.875</td>\n",
       "      <td>0.0</td>\n",
       "      <td>0.0</td>\n",
       "      <td>-99999.0</td>\n",
       "      <td>-99999.0</td>\n",
       "      <td>100.69</td>\n",
       "      <td>0.76</td>\n",
       "      <td>101.45</td>\n",
       "    </tr>\n",
       "  </tbody>\n",
       "</table>\n",
       "</div>"
      ],
      "text/plain": [
       "         ma1        ma2        ma3   HL  pct_change  vol_increment  vol_roc  \\\n",
       "0 -99999.000 -99999.000 -99999.000  0.0         0.0       -99999.0 -99999.0   \n",
       "1 -99999.000 -99999.000 -99999.000  0.0         0.0       -99999.0 -99999.0   \n",
       "2      0.380 -99999.000 -99999.000  0.0         0.0       -99999.0 -99999.0   \n",
       "3     -0.075     -0.455 -99999.000  0.0         0.0       -99999.0 -99999.0   \n",
       "4      0.345      0.420      0.875  0.0         0.0       -99999.0 -99999.0   \n",
       "\n",
       "      open1  open_increment    open  \n",
       "0 -99999.00       -99999.00  100.00  \n",
       "1    100.00            0.84  100.84  \n",
       "2    100.84           -0.08  100.76  \n",
       "3    100.76           -0.07  100.69  \n",
       "4    100.69            0.76  101.45  "
      ]
     },
     "execution_count": 14,
     "metadata": {},
     "output_type": "execute_result"
    }
   ],
   "source": [
    "dataset2.fillna(-99999, inplace=True)\n",
    "dataset2.head()"
   ]
  },
  {
   "cell_type": "code",
   "execution_count": 15,
   "metadata": {},
   "outputs": [
    {
     "name": "stderr",
     "output_type": "stream",
     "text": [
      "D:\\Anaconda3\\lib\\site-packages\\ipykernel_launcher.py:1: SettingWithCopyWarning: \n",
      "A value is trying to be set on a copy of a slice from a DataFrame.\n",
      "Try using .loc[row_indexer,col_indexer] = value instead\n",
      "\n",
      "See the caveats in the documentation: https://pandas.pydata.org/pandas-docs/stable/user_guide/indexing.html#returning-a-view-versus-a-copy\n",
      "  \"\"\"Entry point for launching an IPython kernel.\n"
     ]
    },
    {
     "data": {
      "text/html": [
       "<div>\n",
       "<style scoped>\n",
       "    .dataframe tbody tr th:only-of-type {\n",
       "        vertical-align: middle;\n",
       "    }\n",
       "\n",
       "    .dataframe tbody tr th {\n",
       "        vertical-align: top;\n",
       "    }\n",
       "\n",
       "    .dataframe thead th {\n",
       "        text-align: right;\n",
       "    }\n",
       "</style>\n",
       "<table border=\"1\" class=\"dataframe\">\n",
       "  <thead>\n",
       "    <tr style=\"text-align: right;\">\n",
       "      <th></th>\n",
       "      <th>ma1</th>\n",
       "      <th>ma2</th>\n",
       "      <th>ma3</th>\n",
       "      <th>HL</th>\n",
       "      <th>pct_change</th>\n",
       "      <th>vol_increment</th>\n",
       "      <th>vol_roc</th>\n",
       "      <th>open1</th>\n",
       "      <th>open_increment</th>\n",
       "      <th>open</th>\n",
       "      <th>target</th>\n",
       "    </tr>\n",
       "  </thead>\n",
       "  <tbody>\n",
       "    <tr>\n",
       "      <th>0</th>\n",
       "      <td>-99999.000</td>\n",
       "      <td>-99999.000</td>\n",
       "      <td>-99999.000</td>\n",
       "      <td>0.0</td>\n",
       "      <td>0.0</td>\n",
       "      <td>-99999.0</td>\n",
       "      <td>-99999.0</td>\n",
       "      <td>-99999.00</td>\n",
       "      <td>-99999.00</td>\n",
       "      <td>100.00</td>\n",
       "      <td>0.000</td>\n",
       "    </tr>\n",
       "    <tr>\n",
       "      <th>1</th>\n",
       "      <td>-99999.000</td>\n",
       "      <td>-99999.000</td>\n",
       "      <td>-99999.000</td>\n",
       "      <td>0.0</td>\n",
       "      <td>0.0</td>\n",
       "      <td>-99999.0</td>\n",
       "      <td>-99999.0</td>\n",
       "      <td>100.00</td>\n",
       "      <td>0.84</td>\n",
       "      <td>100.84</td>\n",
       "      <td>99999.380</td>\n",
       "    </tr>\n",
       "    <tr>\n",
       "      <th>2</th>\n",
       "      <td>0.380</td>\n",
       "      <td>-99999.000</td>\n",
       "      <td>-99999.000</td>\n",
       "      <td>0.0</td>\n",
       "      <td>0.0</td>\n",
       "      <td>-99999.0</td>\n",
       "      <td>-99999.0</td>\n",
       "      <td>100.84</td>\n",
       "      <td>-0.08</td>\n",
       "      <td>100.76</td>\n",
       "      <td>-0.455</td>\n",
       "    </tr>\n",
       "    <tr>\n",
       "      <th>3</th>\n",
       "      <td>-0.075</td>\n",
       "      <td>-0.455</td>\n",
       "      <td>-99999.000</td>\n",
       "      <td>0.0</td>\n",
       "      <td>0.0</td>\n",
       "      <td>-99999.0</td>\n",
       "      <td>-99999.0</td>\n",
       "      <td>100.76</td>\n",
       "      <td>-0.07</td>\n",
       "      <td>100.69</td>\n",
       "      <td>0.420</td>\n",
       "    </tr>\n",
       "    <tr>\n",
       "      <th>4</th>\n",
       "      <td>0.345</td>\n",
       "      <td>0.420</td>\n",
       "      <td>0.875</td>\n",
       "      <td>0.0</td>\n",
       "      <td>0.0</td>\n",
       "      <td>-99999.0</td>\n",
       "      <td>-99999.0</td>\n",
       "      <td>100.69</td>\n",
       "      <td>0.76</td>\n",
       "      <td>101.45</td>\n",
       "      <td>0.335</td>\n",
       "    </tr>\n",
       "  </tbody>\n",
       "</table>\n",
       "</div>"
      ],
      "text/plain": [
       "         ma1        ma2        ma3   HL  pct_change  vol_increment  vol_roc  \\\n",
       "0 -99999.000 -99999.000 -99999.000  0.0         0.0       -99999.0 -99999.0   \n",
       "1 -99999.000 -99999.000 -99999.000  0.0         0.0       -99999.0 -99999.0   \n",
       "2      0.380 -99999.000 -99999.000  0.0         0.0       -99999.0 -99999.0   \n",
       "3     -0.075     -0.455 -99999.000  0.0         0.0       -99999.0 -99999.0   \n",
       "4      0.345      0.420      0.875  0.0         0.0       -99999.0 -99999.0   \n",
       "\n",
       "      open1  open_increment    open     target  \n",
       "0 -99999.00       -99999.00  100.00      0.000  \n",
       "1    100.00            0.84  100.84  99999.380  \n",
       "2    100.84           -0.08  100.76     -0.455  \n",
       "3    100.76           -0.07  100.69      0.420  \n",
       "4    100.69            0.76  101.45      0.335  "
      ]
     },
     "execution_count": 15,
     "metadata": {},
     "output_type": "execute_result"
    }
   ],
   "source": [
    "dataset2['target']= (dataset2.ma1.shift(-1) - dataset2.ma1).dropna()\n",
    "dataset2.head()"
   ]
  },
  {
   "cell_type": "code",
   "execution_count": 16,
   "metadata": {},
   "outputs": [
    {
     "data": {
      "text/plain": [
       "[Text(0.5, 0, 'ma1'),\n",
       " Text(1.5, 0, 'ma2'),\n",
       " Text(2.5, 0, 'ma3'),\n",
       " Text(3.5, 0, 'HL'),\n",
       " Text(4.5, 0, 'pct_change'),\n",
       " Text(5.5, 0, 'vol_increment'),\n",
       " Text(6.5, 0, 'vol_roc'),\n",
       " Text(7.5, 0, 'open1'),\n",
       " Text(8.5, 0, 'open_increment'),\n",
       " Text(9.5, 0, 'open'),\n",
       " Text(10.5, 0, 'target')]"
      ]
     },
     "execution_count": 16,
     "metadata": {},
     "output_type": "execute_result"
    },
    {
     "data": {
      "image/png": "[encoded data removed]",
      "text/plain": [
       "<Figure size 432x288 with 2 Axes>"
      ]
     },
     "metadata": {
      "needs_background": "light"
     },
     "output_type": "display_data"
    }
   ],
   "source": [
    "corr = dataset2.corr()\n",
    "ax = sns.heatmap(corr,vmin=-1,vmax=1,center=0,cmap=sns.diverging_palette(20,220,n=200),square=True)\n",
    "ax.set_xticklabels(ax.get_xticklabels(),rotation=45,horizontalalignment='right')"
   ]
  },
  {
   "cell_type": "code",
   "execution_count": 17,
   "metadata": {},
   "outputs": [
    {
     "name": "stdout",
     "output_type": "stream",
     "text": [
      "Total dataset has 12437 samples, and 11 features.\n"
     ]
    }
   ],
   "source": [
    "print('Total dataset has {} samples, and {} features.'.format(dataset2.shape[0],dataset2.shape[1]))"
   ]
  },
  {
   "cell_type": "code",
   "execution_count": 18,
   "metadata": {},
   "outputs": [
    {
     "name": "stdout",
     "output_type": "stream",
     "text": [
      "12437 12437\n"
     ]
    }
   ],
   "source": [
    "X = (dataset2.drop(['target'],1))\n",
    "y = dataset2['target']\n",
    "print(len(X), len(y))"
   ]
  },
  {
   "cell_type": "code",
   "execution_count": 19,
   "metadata": {},
   "outputs": [],
   "source": [
    "train_samples = int(X.shape[0] * 0.95)\n",
    "\n",
    "X_train = X[:train_samples]\n",
    "X_test = X[train_samples:]\n",
    "\n",
    "y_train = y[:train_samples]\n",
    "y_test = y[train_samples:]"
   ]
  },
  {
   "cell_type": "code",
   "execution_count": 20,
   "metadata": {},
   "outputs": [
    {
     "name": "stdout",
     "output_type": "stream",
     "text": [
      "(11815, 10) (11815,)\n",
      "(622, 10) (622,)\n"
     ]
    }
   ],
   "source": [
    "print(X_train.shape, y_train.shape)\n",
    "print(X_test.shape, y_test.shape)"
   ]
  },
  {
   "cell_type": "code",
   "execution_count": 21,
   "metadata": {},
   "outputs": [],
   "source": [
    "def getBinary(val):\n",
    "    if val>0:\n",
    "        return 1\n",
    "    else:\n",
    "        return 0\n",
    "y_test_binary = y_test.apply(getBinary)"
   ]
  },
  {
   "cell_type": "code",
   "execution_count": 22,
   "metadata": {},
   "outputs": [],
   "source": [
    "regressor = xgb.XGBRegressor(objective='reg:squarederror'\n",
    "                             ,gamma=0.0,n_estimators = 200,\n",
    "                             base_score = 0.7,colsample_bytree=1,\n",
    "                             learning_rate=0.01)"
   ]
  },
  {
   "cell_type": "code",
   "execution_count": 23,
   "metadata": {},
   "outputs": [
    {
     "name": "stdout",
     "output_type": "stream",
     "text": [
      "0.8118971061093248\n"
     ]
    }
   ],
   "source": [
    "xgb_model = regressor.fit(X_train, y_train.apply(getBinary))\n",
    "y_predicted = xgb_model.predict(X_test)\n",
    "y_predicted_binary = [1 if yp >= 0.5 else 0 for yp in y_predicted]\n",
    "print(accuracy_score(y_test_binary,y_predicted_binary))"
   ]
  },
  {
   "cell_type": "code",
   "execution_count": 24,
   "metadata": {},
   "outputs": [
    {
     "data": {
      "text/plain": [
       "<Figure size 720x576 with 0 Axes>"
      ]
     },
     "metadata": {},
     "output_type": "display_data"
    },
    {
     "data": {
      "image/png": "[encoded data removed]",
      "text/plain": [
       "<Figure size 432x288 with 1 Axes>"
      ]
     },
     "metadata": {
      "needs_background": "light"
     },
     "output_type": "display_data"
    }
   ],
   "source": [
    "fig = plt.figure(figsize=(10,8))\n",
    "\n",
    "# Plot feature importance\n",
    "plot_importance(xgb_model)\n",
    "plt.show()"
   ]
  },
  {
   "cell_type": "code",
   "execution_count": 35,
   "metadata": {},
   "outputs": [
    {
     "name": "stdout",
     "output_type": "stream",
     "text": [
      "Price of stock on March 3, 2020: $ 0.8005504\n"
     ]
    }
   ],
   "source": [
    "x_input = X_test[-20:]\n",
    "marchPrices = xgb_model.predict(x_input)"
   ]
  },
  {
   "cell_type": "code",
   "execution_count": 36,
   "metadata": {},
   "outputs": [
    {
     "data": {
      "image/png": "[encoded data removed]",
      "text/plain": [
       "<Figure size 432x288 with 1 Axes>"
      ]
     },
     "metadata": {
      "needs_background": "light"
     },
     "output_type": "display_data"
    }
   ],
   "source": [
    "plt.plot(marchPrices)\n",
    "plt.show()"
   ]
  }
 ],
 "metadata": {
  "kernelspec": {
   "display_name": "Python 3",
   "language": "python",
   "name": "python3"
  },
  "language_info": {
   "codemirror_mode": {
    "name": "ipython",
    "version": 3
   },
   "file_extension": ".py",
   "mimetype": "text/x-python",
   "name": "python",
   "nbconvert_exporter": "python",
   "pygments_lexer": "ipython3",
   "version": "3.7.7"
  }
 },
 "nbformat": 4,
 "nbformat_minor": 4
}
